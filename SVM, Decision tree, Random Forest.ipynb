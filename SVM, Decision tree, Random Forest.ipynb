{
 "cells": [
  {
   "cell_type": "code",
   "execution_count": null,
   "metadata": {
    "colab": {
     "base_uri": "https://localhost:8080/",
     "height": 73
    },
    "id": "q4EgcD_9i8sp",
    "outputId": "2da94fde-c260-4ca7-ed42-a073e38a90f4"
   },
   "outputs": [],
   "source": []
  },
  {
   "cell_type": "code",
   "execution_count": 65,
   "metadata": {
    "id": "6w6A7FMMj-N2"
   },
   "outputs": [],
   "source": [
    "#read data\n",
    "import pandas as pd\n",
    "df = pd.read_csv(\"Telco-Customer-Churn.csv\")\n",
    "df=df.drop(['customerID'],axis=1)"
   ]
  },
  {
   "cell_type": "code",
   "execution_count": 66,
   "metadata": {
    "colab": {
     "base_uri": "https://localhost:8080/"
    },
    "id": "7N5rb_KYmupJ",
    "outputId": "89422750-7426-4216-cb98-de26392919b2"
   },
   "outputs": [
    {
     "name": "stdout",
     "output_type": "stream",
     "text": [
      "['Female' 'Male']\n",
      "[0 1]\n",
      "['Yes' 'No']\n",
      "['No' 'Yes']\n",
      "[ 1 34  2 45  8 22 10 28 62 13 16 58 49 25 69 52 71 21 12 30 47 72 17 27\n",
      "  5 46 11 70 63 43 15 60 18 66  9  3 31 50 64 56  7 42 35 48 29 65 38 68\n",
      " 32 55 37 36 41  6  4 33 67 23 57 61 14 20 53 40 59 24 44 19 54 51 26  0\n",
      " 39]\n",
      "['No' 'Yes']\n",
      "['No phone service' 'No' 'Yes']\n",
      "['DSL' 'Fiber optic' 'No']\n",
      "['No' 'Yes' 'No internet service']\n",
      "['Yes' 'No' 'No internet service']\n",
      "['No' 'Yes' 'No internet service']\n",
      "['No' 'Yes' 'No internet service']\n",
      "['No' 'Yes' 'No internet service']\n",
      "['No' 'Yes' 'No internet service']\n",
      "['Month-to-month' 'One year' 'Two year']\n",
      "['Yes' 'No']\n",
      "['Electronic check' 'Mailed check' 'Bank transfer (automatic)'\n",
      " 'Credit card (automatic)']\n",
      "[29.85 56.95 53.85 ... 63.1  44.2  78.7 ]\n",
      "['29.85' '1889.5' '108.15' ... '346.45' '306.6' '6844.5']\n",
      "['No' 'Yes']\n"
     ]
    }
   ],
   "source": [
    "#finding datas in columns\n",
    "col=[]\n",
    "for i in df:\n",
    "    col.append(i)\n",
    "for i in col:\n",
    "    print(df[i].unique())\n"
   ]
  },
  {
   "cell_type": "code",
   "execution_count": 67,
   "metadata": {
    "id": "c41_VodUkRMM"
   },
   "outputs": [],
   "source": [
    "#change dual values to binary\n",
    "val=['Partner','Dependents','PhoneService','PaperlessBilling','Churn',\n",
    "     ]\n",
    "for i in val:\n",
    "    df[i]=df[i].map({'Yes':1,'No':0})\n",
    "\n",
    "df['gender']=df['gender'].map({'Female':1,'Male':0})"
   ]
  },
  {
   "cell_type": "code",
   "execution_count": 68,
   "metadata": {
    "id": "o_dolRnJkU10"
   },
   "outputs": [],
   "source": [
    "#change data in 'TotalCharges' to numerical datatype and also remove empty spaces\n",
    "index=[]\n",
    "for i in range(0,7043):\n",
    "    if df['TotalCharges'][i].isspace():\n",
    "        index.append(i)\n",
    "df=df.drop(index,axis=0)\n",
    "df['TotalCharges'] = pd.to_numeric(df['TotalCharges'])"
   ]
  },
  {
   "cell_type": "code",
   "execution_count": 69,
   "metadata": {
    "id": "aRnJpu3UkX7f"
   },
   "outputs": [],
   "source": [
    "#seperate x and y values\n",
    "y=df.iloc[:,-1]\n",
    "x=df.iloc[:,:-1]"
   ]
  },
  {
   "cell_type": "code",
   "execution_count": 70,
   "metadata": {
    "id": "JOmDsSNIkX-Y"
   },
   "outputs": [],
   "source": [
    "#get dummies multi-value attributes\n",
    "strings=['MultipleLines','InternetService','OnlineSecurity','OnlineBackup'\n",
    "         ,'DeviceProtection','TechSupport','StreamingTV','StreamingMovies',\n",
    "         'Contract','PaymentMethod']\n",
    "\n",
    "temp=pd.get_dummies(x['MultipleLines'],dtype='int')\n",
    "x=x.join(temp)\n",
    "\n",
    "temp=pd.get_dummies(x['InternetService'],dtype='int')\n",
    "x=x.join(temp,how = 'left', rsuffix = 'InternetService')\n",
    "\n",
    "\n",
    "temp=pd.get_dummies(x['OnlineSecurity'],dtype='int')\n",
    "x=x.join(temp,how = 'left', lsuffix = 'MultipleLines', rsuffix = 'OnlineSecurity')\n",
    "\n",
    "temp=pd.get_dummies(x['OnlineBackup'],dtype='int')\n",
    "x=x.join(temp,how = 'left', rsuffix = 'OnlineBackup')\n",
    "\n",
    "temp=pd.get_dummies(x['DeviceProtection'],dtype='int')\n",
    "x=x.join(temp,how = 'left', rsuffix = 'DeviceProtection')\n",
    "\n",
    "temp=pd.get_dummies(x['TechSupport'],dtype='int')\n",
    "x=x.join(temp,how = 'left', rsuffix = 'TechSupport')\n",
    "\n",
    "temp=pd.get_dummies(x['StreamingTV'],dtype='int')\n",
    "x=x.join(temp,how = 'left', rsuffix = 'StreamingTV')\n",
    "\n",
    "temp=pd.get_dummies(x['StreamingMovies'],dtype='int')\n",
    "x=x.join(temp,how = 'left', rsuffix = 'StreamingMovies')\n",
    "\n",
    "temp=pd.get_dummies(x['Contract'],dtype='int')\n",
    "x=x.join(temp,how = 'left', rsuffix = 'Contract')\n",
    "\n",
    "temp=pd.get_dummies(x['PaymentMethod'],dtype='int')\n",
    "x=x.join(temp,how = 'left', rsuffix = 'PaymentMethod')\n",
    "\n",
    "x=x.drop(strings,axis=1)"
   ]
  },
  {
   "cell_type": "code",
   "execution_count": 71,
   "metadata": {
    "id": "EWAOFCmmkYB7"
   },
   "outputs": [],
   "source": [
    "#import libraries and split test and train\n",
    "from sklearn.model_selection import train_test_split\n",
    "from sklearn import metrics\n",
    "from sklearn.metrics import classification_report\n",
    "x_train, x_test, y_train, y_test = train_test_split(x, y, test_size=0.25, random_state=16)"
   ]
  },
  {
   "cell_type": "markdown",
   "metadata": {
    "id": "2tOh6gwukyBe"
   },
   "source": [
    "from sklearn.linear_model import LogisticRegression\n",
    "logreg = LogisticRegression()\n",
    "logreg.fit(x_train,y_train)\n",
    "y_pred = logreg.predict(x_test)\n",
    "print(classification_report(y_test, y_pred))\n",
    "accuracy = metrics.accuracy_score(y_test, y_pred)\n",
    "print('Accuracy of Logistic Regression Classification is: ',accuracy)"
   ]
  },
  {
   "cell_type": "code",
   "execution_count": 75,
   "metadata": {
    "colab": {
     "base_uri": "https://localhost:8080/"
    },
    "id": "45Qy-PuVlck0",
    "outputId": "3cc2d46f-0b67-485b-9f65-720c00144b73"
   },
   "outputs": [
    {
     "name": "stdout",
     "output_type": "stream",
     "text": [
      "              precision    recall  f1-score   support\n",
      "\n",
      "           0       0.82      0.79      0.80      1282\n",
      "           1       0.48      0.54      0.51       476\n",
      "\n",
      "    accuracy                           0.72      1758\n",
      "   macro avg       0.65      0.66      0.66      1758\n",
      "weighted avg       0.73      0.72      0.72      1758\n",
      "\n",
      "Accuracy of Decision Tree Classification is:  0.7201365187713311 \n",
      "\n"
     ]
    }
   ],
   "source": [
    "#decision tree\n",
    "from sklearn.tree import DecisionTreeClassifier\n",
    "dtree = DecisionTreeClassifier()\n",
    "dtree = dtree.fit(x_train.values, y_train.values)\n",
    "y_pred=dtree.predict(x_test)\n",
    "print(classification_report(y_test, y_pred))\n",
    "accuracy = metrics.accuracy_score(y_test, y_pred)\n",
    "print('Accuracy of Decision Tree Classification is: ',accuracy,'\\n')"
   ]
  },
  {
   "cell_type": "code",
   "execution_count": 76,
   "metadata": {
    "colab": {
     "base_uri": "https://localhost:8080/"
    },
    "id": "R69Twwjzllas",
    "outputId": "592f9f05-ed81-40ed-9ea0-c705a4a1427b"
   },
   "outputs": [
    {
     "name": "stdout",
     "output_type": "stream",
     "text": [
      "              precision    recall  f1-score   support\n",
      "\n",
      "           0       0.73      1.00      0.84      1282\n",
      "           1       0.00      0.00      0.00       476\n",
      "\n",
      "    accuracy                           0.73      1758\n",
      "   macro avg       0.36      0.50      0.42      1758\n",
      "weighted avg       0.53      0.73      0.62      1758\n",
      "\n",
      "Accuracy of SVM Classification is:  0.7292377701934016 \n",
      "\n"
     ]
    },
    {
     "name": "stderr",
     "output_type": "stream",
     "text": [
      "/opt/anaconda3/lib/python3.9/site-packages/sklearn/metrics/_classification.py:1248: UndefinedMetricWarning: Precision and F-score are ill-defined and being set to 0.0 in labels with no predicted samples. Use `zero_division` parameter to control this behavior.\n",
      "  _warn_prf(average, modifier, msg_start, len(result))\n",
      "/opt/anaconda3/lib/python3.9/site-packages/sklearn/metrics/_classification.py:1248: UndefinedMetricWarning: Precision and F-score are ill-defined and being set to 0.0 in labels with no predicted samples. Use `zero_division` parameter to control this behavior.\n",
      "  _warn_prf(average, modifier, msg_start, len(result))\n",
      "/opt/anaconda3/lib/python3.9/site-packages/sklearn/metrics/_classification.py:1248: UndefinedMetricWarning: Precision and F-score are ill-defined and being set to 0.0 in labels with no predicted samples. Use `zero_division` parameter to control this behavior.\n",
      "  _warn_prf(average, modifier, msg_start, len(result))\n"
     ]
    }
   ],
   "source": [
    "#svm\n",
    "from sklearn import svm\n",
    "clf=svm.SVC()\n",
    "clf.fit(x_train,y_train)\n",
    "y_pred=clf.predict(x_test)\n",
    "print(classification_report(y_test, y_pred))\n",
    "accuracy = metrics.accuracy_score(y_test, y_pred)\n",
    "print('Accuracy of SVM Classification is: ',accuracy,\"\\n\")"
   ]
  },
  {
   "cell_type": "code",
   "execution_count": 80,
   "metadata": {},
   "outputs": [
    {
     "name": "stdout",
     "output_type": "stream",
     "text": [
      "Accuracy: 0.7781569965870307\n"
     ]
    }
   ],
   "source": [
    "#Random Forest\n",
    "from sklearn.ensemble import RandomForestClassifier\n",
    "from sklearn.metrics import accuracy_score, confusion_matrix, precision_score, recall_score, ConfusionMatrixDisplay\n",
    "from sklearn.model_selection import RandomizedSearchCV, train_test_split\n",
    "from scipy.stats import randint\n",
    "rf = RandomForestClassifier()\n",
    "rf.fit(x_train, y_train)\n",
    "y_pred = rf.predict(x_test)\n",
    "accuracy = accuracy_score(y_test, y_pred)\n",
    "print(\"Accuracy:\", accuracy)"
   ]
  },
  {
   "cell_type": "code",
   "execution_count": 81,
   "metadata": {},
   "outputs": [
    {
     "name": "stdout",
     "output_type": "stream",
     "text": [
      "Accuracy: 0.7918088737201365\n"
     ]
    }
   ],
   "source": [
    "#Boosting\n",
    "\n",
    "from sklearn.ensemble import AdaBoostClassifier\n",
    "from sklearn import datasets\n",
    "from sklearn.model_selection import train_test_split\n",
    "from sklearn import metrics\n",
    "abc = AdaBoostClassifier(n_estimators=50,learning_rate=1)\n",
    "model = abc.fit(x_train, y_train)\n",
    "y_pred = model.predict(x_test)\n",
    "print(\"Accuracy:\",metrics.accuracy_score(y_test, y_pred))\n",
    "\n"
   ]
  },
  {
   "cell_type": "code",
   "execution_count": null,
   "metadata": {},
   "outputs": [],
   "source": []
  }
 ],
 "metadata": {
  "colab": {
   "provenance": []
  },
  "kernelspec": {
   "display_name": "Python 3 (ipykernel)",
   "language": "python",
   "name": "python3"
  },
  "language_info": {
   "codemirror_mode": {
    "name": "ipython",
    "version": 3
   },
   "file_extension": ".py",
   "mimetype": "text/x-python",
   "name": "python",
   "nbconvert_exporter": "python",
   "pygments_lexer": "ipython3",
   "version": "3.9.7"
  }
 },
 "nbformat": 4,
 "nbformat_minor": 4
}
